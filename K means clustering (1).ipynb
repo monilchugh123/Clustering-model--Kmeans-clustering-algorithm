{
 "cells": [
  {
   "cell_type": "code",
   "execution_count": 27,
   "id": "a28ba38b",
   "metadata": {},
   "outputs": [],
   "source": [
    "import pandas as pd\n",
    "import numpy as np\n",
    "from PIL import Image\n",
    "import random"
   ]
  },
  {
   "cell_type": "code",
   "execution_count": 28,
   "id": "5cd41623",
   "metadata": {},
   "outputs": [],
   "source": [
    "img = Image.open('assignment k means pic.jpg')"
   ]
  },
  {
   "cell_type": "code",
   "execution_count": 29,
   "id": "0ce33f48",
   "metadata": {},
   "outputs": [],
   "source": [
    "w, h = img.size"
   ]
  },
  {
   "cell_type": "code",
   "execution_count": 30,
   "id": "7ec6ca6a",
   "metadata": {},
   "outputs": [],
   "source": [
    "rgb_values = []\n",
    "for y in range(h):\n",
    "    for x in range(w):\n",
    "        pixelvalue = img.getpixel((x,y))\n",
    "        rgb_values.append(pixelvalue)"
   ]
  },
  {
   "cell_type": "code",
   "execution_count": 31,
   "id": "49d33e3e",
   "metadata": {},
   "outputs": [],
   "source": [
    "df =pd.DataFrame(rgb_values, columns=['Red', 'Green','Blue'])"
   ]
  },
  {
   "cell_type": "code",
   "execution_count": 32,
   "id": "453119c9",
   "metadata": {},
   "outputs": [
    {
     "data": {
      "text/plain": [
       "(540000, 3)"
      ]
     },
     "execution_count": 32,
     "metadata": {},
     "output_type": "execute_result"
    }
   ],
   "source": [
    "df.shape"
   ]
  },
  {
   "cell_type": "code",
   "execution_count": 33,
   "id": "52e38b80",
   "metadata": {},
   "outputs": [
    {
     "data": {
      "text/html": [
       "<div>\n",
       "<style scoped>\n",
       "    .dataframe tbody tr th:only-of-type {\n",
       "        vertical-align: middle;\n",
       "    }\n",
       "\n",
       "    .dataframe tbody tr th {\n",
       "        vertical-align: top;\n",
       "    }\n",
       "\n",
       "    .dataframe thead th {\n",
       "        text-align: right;\n",
       "    }\n",
       "</style>\n",
       "<table border=\"1\" class=\"dataframe\">\n",
       "  <thead>\n",
       "    <tr style=\"text-align: right;\">\n",
       "      <th></th>\n",
       "      <th>Red</th>\n",
       "      <th>Green</th>\n",
       "      <th>Blue</th>\n",
       "    </tr>\n",
       "  </thead>\n",
       "  <tbody>\n",
       "    <tr>\n",
       "      <th>0</th>\n",
       "      <td>99</td>\n",
       "      <td>144</td>\n",
       "      <td>177</td>\n",
       "    </tr>\n",
       "    <tr>\n",
       "      <th>1</th>\n",
       "      <td>97</td>\n",
       "      <td>142</td>\n",
       "      <td>175</td>\n",
       "    </tr>\n",
       "    <tr>\n",
       "      <th>2</th>\n",
       "      <td>95</td>\n",
       "      <td>140</td>\n",
       "      <td>171</td>\n",
       "    </tr>\n",
       "    <tr>\n",
       "      <th>3</th>\n",
       "      <td>92</td>\n",
       "      <td>137</td>\n",
       "      <td>168</td>\n",
       "    </tr>\n",
       "    <tr>\n",
       "      <th>4</th>\n",
       "      <td>90</td>\n",
       "      <td>135</td>\n",
       "      <td>164</td>\n",
       "    </tr>\n",
       "  </tbody>\n",
       "</table>\n",
       "</div>"
      ],
      "text/plain": [
       "   Red  Green  Blue\n",
       "0   99    144   177\n",
       "1   97    142   175\n",
       "2   95    140   171\n",
       "3   92    137   168\n",
       "4   90    135   164"
      ]
     },
     "execution_count": 33,
     "metadata": {},
     "output_type": "execute_result"
    }
   ],
   "source": [
    "df.head()"
   ]
  },
  {
   "cell_type": "markdown",
   "id": "0dd306b6",
   "metadata": {},
   "source": [
    "# Using SKlearn library"
   ]
  },
  {
   "cell_type": "code",
   "execution_count": 34,
   "id": "c92e5ae7",
   "metadata": {},
   "outputs": [
    {
     "name": "stderr",
     "output_type": "stream",
     "text": [
      "C:\\Users\\Monil\\anaconda3\\Lib\\site-packages\\sklearn\\cluster\\_kmeans.py:1412: FutureWarning: The default value of `n_init` will change from 10 to 'auto' in 1.4. Set the value of `n_init` explicitly to suppress the warning\n",
      "  super()._check_params_vs_input(X, default_n_init=10)\n",
      "C:\\Users\\Monil\\anaconda3\\Lib\\site-packages\\sklearn\\cluster\\_kmeans.py:1412: FutureWarning: The default value of `n_init` will change from 10 to 'auto' in 1.4. Set the value of `n_init` explicitly to suppress the warning\n",
      "  super()._check_params_vs_input(X, default_n_init=10)\n",
      "C:\\Users\\Monil\\anaconda3\\Lib\\site-packages\\sklearn\\cluster\\_kmeans.py:1412: FutureWarning: The default value of `n_init` will change from 10 to 'auto' in 1.4. Set the value of `n_init` explicitly to suppress the warning\n",
      "  super()._check_params_vs_input(X, default_n_init=10)\n",
      "C:\\Users\\Monil\\anaconda3\\Lib\\site-packages\\sklearn\\cluster\\_kmeans.py:1412: FutureWarning: The default value of `n_init` will change from 10 to 'auto' in 1.4. Set the value of `n_init` explicitly to suppress the warning\n",
      "  super()._check_params_vs_input(X, default_n_init=10)\n",
      "C:\\Users\\Monil\\anaconda3\\Lib\\site-packages\\sklearn\\cluster\\_kmeans.py:1412: FutureWarning: The default value of `n_init` will change from 10 to 'auto' in 1.4. Set the value of `n_init` explicitly to suppress the warning\n",
      "  super()._check_params_vs_input(X, default_n_init=10)\n",
      "C:\\Users\\Monil\\anaconda3\\Lib\\site-packages\\sklearn\\cluster\\_kmeans.py:1412: FutureWarning: The default value of `n_init` will change from 10 to 'auto' in 1.4. Set the value of `n_init` explicitly to suppress the warning\n",
      "  super()._check_params_vs_input(X, default_n_init=10)\n",
      "C:\\Users\\Monil\\anaconda3\\Lib\\site-packages\\sklearn\\cluster\\_kmeans.py:1412: FutureWarning: The default value of `n_init` will change from 10 to 'auto' in 1.4. Set the value of `n_init` explicitly to suppress the warning\n",
      "  super()._check_params_vs_input(X, default_n_init=10)\n"
     ]
    }
   ],
   "source": [
    "from sklearn.cluster import KMeans\n",
    "\n",
    "wcss1 = []\n",
    "\n",
    "for i in range(1,8):\n",
    "    km = KMeans(n_clusters=i)\n",
    "    km.fit_predict(df)\n",
    "    wcss1.append(km.inertia_)"
   ]
  },
  {
   "cell_type": "markdown",
   "id": "40f4c16a",
   "metadata": {},
   "source": [
    "## Elbow curve using sklean library"
   ]
  },
  {
   "cell_type": "code",
   "execution_count": 35,
   "id": "daefd5ee",
   "metadata": {},
   "outputs": [
    {
     "data": {
      "image/png": "[encoded data removed]",
      "text/plain": [
       "<Figure size 640x480 with 1 Axes>"
      ]
     },
     "metadata": {},
     "output_type": "display_data"
    },
    {
     "name": "stdout",
     "output_type": "stream",
     "text": [
      "[3726502401.810455, 1475483976.6071124, 631426307.8557994, 410466083.23276234, 324108303.5661393, 277164028.3532463, 238894766.34194356]\n"
     ]
    }
   ],
   "source": [
    "#PLotting WCSS with out sklearn code\n",
    "import matplotlib.pyplot as plt\n",
    "plt.plot(range(1,8), wcss1)\n",
    "plt.show()\n",
    "print(wcss1)"
   ]
  },
  {
   "cell_type": "markdown",
   "id": "89c89615",
   "metadata": {},
   "source": [
    "# KMeans clustering own code"
   ]
  },
  {
   "cell_type": "code",
   "execution_count": 36,
   "id": "fbda1b1a",
   "metadata": {},
   "outputs": [
    {
     "name": "stdout",
     "output_type": "stream",
     "text": [
      "Total iteration run: 2\n",
      "Final Centroids are: [[ 91.36714074 121.22322593 102.45025556]]\n",
      "Total iteration run: 17\n",
      "Final Centroids are: [[240.01088295 207.05198508  36.48902425]\n",
      " [ 73.0416489  110.64185733 110.58226292]]\n",
      "Total iteration run: 23\n",
      "Final Centroids are: [[ 87.23853874 132.60234313 135.12367983]\n",
      " [240.44551984 207.28641774  36.04195745]\n",
      " [ 53.77661094  80.67053168  76.95923514]]\n",
      "Total iteration run: 27\n",
      "Final Centroids are: [[240.53491497 207.34185374  35.92363946]\n",
      " [ 46.81250664  67.27416891  64.83533362]\n",
      " [ 96.35988576 144.0856671  151.578033  ]\n",
      " [ 72.15143359 112.51138394 108.40530603]]\n",
      "Total iteration run: 36\n",
      "Final Centroids are: [[ 80.9553867  125.57165298 123.05956585]\n",
      " [240.60838994 207.38977135  35.87130769]\n",
      " [101.78834406 149.29707354 161.97630183]\n",
      " [ 42.16930999  56.9541024   56.73378366]\n",
      " [ 61.90443319  96.88845994  91.27340375]]\n",
      "Total iteration run: 60\n",
      "Final Centroids are: [[ 38.17539777  48.43750994  50.14087112]\n",
      " [ 55.08939314  84.56350406  78.89217973]\n",
      " [240.64388042 207.41108935  35.83873605]\n",
      " [105.38446665 152.94895876 168.36922794]\n",
      " [ 86.70766513 133.3258185  133.06720742]\n",
      " [ 71.0818678  111.23577634 107.17534541]]\n",
      "Total iteration run: 58\n",
      "Final Centroids are: [[ 61.15828122  96.19166941  90.94417992]\n",
      " [100.95904885 148.91256924 161.84383705]\n",
      " [165.83452192 153.22847332  67.77020602]\n",
      " [242.75758902 205.1984904   23.72575617]\n",
      " [ 41.87821869  56.467238    56.40719515]\n",
      " [247.79382851 220.61359913  54.82599672]\n",
      " [ 79.8668175  124.85828788 123.05414175]]\n",
      "[3726502401.8107123, 1475483975.7882957, 631424263.6931089, 410459153.8548523, 323940392.8761571, 277095221.5439117, 271016362.74546313]\n"
     ]
    }
   ],
   "source": [
    "X = df.values\n",
    "wcss=[]\n",
    "for k in range(1,8):\n",
    "    random_index = random.sample(range(0, df.shape[0]), k)\n",
    "    initial_cent = X[random_index]\n",
    "\n",
    "    for m in range(100):\n",
    "        \n",
    "        # Assign Cluster\n",
    "        assign_cluster =[]\n",
    "        for row in X:\n",
    "            distance=[]\n",
    "            for centroid in initial_cent:\n",
    "                distance.append(np.sqrt(np.dot(row-centroid, row-centroid)))\n",
    "            index = distance.index(min(distance))\n",
    "            assign_cluster.append(index)\n",
    "        assign_cluster = np.array(assign_cluster)           \n",
    "        \n",
    "        # New centroids\n",
    "        old_cent = initial_cent\n",
    "        uni_cluster_no = np.unique(assign_cluster)\n",
    "        cen_new =[]\n",
    "        for cluster_no in uni_cluster_no:\n",
    "            cen_new.append(X[assign_cluster == cluster_no].mean(axis=0))\n",
    "\n",
    "        initial_cent = np.array(cen_new)\n",
    "        \n",
    "        # Check convergence\n",
    "        if(old_cent == initial_cent).all():\n",
    "            wcss1 = 0\n",
    "            for i in uni_cluster_no:\n",
    "                X1=X[assign_cluster==i]\n",
    "                for j in X1:\n",
    "                    wcss1 = wcss1 + np.dot((j - initial_cent[i]),(j - initial_cent[i]))\n",
    "            wcss.append(wcss1)\n",
    "            break\n",
    "\n",
    "    print('Total iteration run:',m+1)\n",
    "    print('Final Centroids are:',initial_cent)\n",
    "print(wcss)"
   ]
  },
  {
   "cell_type": "markdown",
   "id": "b64b721f",
   "metadata": {},
   "source": [
    "## Elbow curve with own code calculation"
   ]
  },
  {
   "cell_type": "code",
   "execution_count": 38,
   "id": "a739ff68",
   "metadata": {},
   "outputs": [
    {
     "data": {
      "text/plain": [
       "[<matplotlib.lines.Line2D at 0x1648d24ef50>]"
      ]
     },
     "execution_count": 38,
     "metadata": {},
     "output_type": "execute_result"
    },
    {
     "data": {
      "image/png": "[encoded data removed]",
      "text/plain": [
       "<Figure size 640x480 with 1 Axes>"
      ]
     },
     "metadata": {},
     "output_type": "display_data"
    }
   ],
   "source": [
    "#PLotting WCSS with out own written code \n",
    "plt.plot(range(1,8), wcss)"
   ]
  },
  {
   "cell_type": "code",
   "execution_count": 40,
   "id": "a64222bf",
   "metadata": {},
   "outputs": [
    {
     "name": "stdout",
     "output_type": "stream",
     "text": [
      "[3726502401.8107123, 1475483975.7882957, 631424263.6931089, 410459153.8548523, 323940392.8761571, 277095221.5439117, 271016362.74546313]\n"
     ]
    }
   ],
   "source": [
    "print(wcss)"
   ]
  },
  {
   "cell_type": "code",
   "execution_count": null,
   "id": "da38ead6",
   "metadata": {},
   "outputs": [],
   "source": []
  }
 ],
 "metadata": {
  "kernelspec": {
   "display_name": "Python 3 (ipykernel)",
   "language": "python",
   "name": "python3"
  },
  "language_info": {
   "codemirror_mode": {
    "name": "ipython",
    "version": 3
   },
   "file_extension": ".py",
   "mimetype": "text/x-python",
   "name": "python",
   "nbconvert_exporter": "python",
   "pygments_lexer": "ipython3",
   "version": "3.11.4"
  }
 },
 "nbformat": 4,
 "nbformat_minor": 5
}
