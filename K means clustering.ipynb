{
 "cells": [
  {
   "cell_type": "code",
   "execution_count": 154,
   "id": "a28ba38b",
   "metadata": {},
   "outputs": [],
   "source": [
    "import pandas as pd\n",
    "import numpy as np\n",
    "from PIL import Image\n",
    "import random"
   ]
  },
  {
   "cell_type": "code",
   "execution_count": 155,
   "id": "5cd41623",
   "metadata": {},
   "outputs": [],
   "source": [
    "img = Image.open('assignment k means pic.jpg')"
   ]
  },
  {
   "cell_type": "code",
   "execution_count": 156,
   "id": "0ce33f48",
   "metadata": {},
   "outputs": [],
   "source": [
    "w, h = img.size"
   ]
  },
  {
   "cell_type": "code",
   "execution_count": 157,
   "id": "7ec6ca6a",
   "metadata": {},
   "outputs": [],
   "source": [
    "rgb_values = []\n",
    "for y in range(h):\n",
    "    for x in range(w):\n",
    "        pixelvalue = img.getpixel((x,y))\n",
    "        rgb_values.append(pixelvalue)"
   ]
  },
  {
   "cell_type": "code",
   "execution_count": 158,
   "id": "49d33e3e",
   "metadata": {},
   "outputs": [],
   "source": [
    "df =pd.DataFrame(rgb_values, columns=['Red', 'Green','Blue'])"
   ]
  },
  {
   "cell_type": "code",
   "execution_count": 159,
   "id": "453119c9",
   "metadata": {},
   "outputs": [
    {
     "data": {
      "text/plain": [
       "(540000, 3)"
      ]
     },
     "execution_count": 159,
     "metadata": {},
     "output_type": "execute_result"
    }
   ],
   "source": [
    "df.shape"
   ]
  },
  {
   "cell_type": "code",
   "execution_count": 160,
   "id": "52e38b80",
   "metadata": {},
   "outputs": [
    {
     "data": {
      "text/html": [
       "<div>\n",
       "<style scoped>\n",
       "    .dataframe tbody tr th:only-of-type {\n",
       "        vertical-align: middle;\n",
       "    }\n",
       "\n",
       "    .dataframe tbody tr th {\n",
       "        vertical-align: top;\n",
       "    }\n",
       "\n",
       "    .dataframe thead th {\n",
       "        text-align: right;\n",
       "    }\n",
       "</style>\n",
       "<table border=\"1\" class=\"dataframe\">\n",
       "  <thead>\n",
       "    <tr style=\"text-align: right;\">\n",
       "      <th></th>\n",
       "      <th>Red</th>\n",
       "      <th>Green</th>\n",
       "      <th>Blue</th>\n",
       "    </tr>\n",
       "  </thead>\n",
       "  <tbody>\n",
       "    <tr>\n",
       "      <th>0</th>\n",
       "      <td>99</td>\n",
       "      <td>144</td>\n",
       "      <td>177</td>\n",
       "    </tr>\n",
       "    <tr>\n",
       "      <th>1</th>\n",
       "      <td>97</td>\n",
       "      <td>142</td>\n",
       "      <td>175</td>\n",
       "    </tr>\n",
       "    <tr>\n",
       "      <th>2</th>\n",
       "      <td>95</td>\n",
       "      <td>140</td>\n",
       "      <td>171</td>\n",
       "    </tr>\n",
       "    <tr>\n",
       "      <th>3</th>\n",
       "      <td>92</td>\n",
       "      <td>137</td>\n",
       "      <td>168</td>\n",
       "    </tr>\n",
       "    <tr>\n",
       "      <th>4</th>\n",
       "      <td>90</td>\n",
       "      <td>135</td>\n",
       "      <td>164</td>\n",
       "    </tr>\n",
       "  </tbody>\n",
       "</table>\n",
       "</div>"
      ],
      "text/plain": [
       "   Red  Green  Blue\n",
       "0   99    144   177\n",
       "1   97    142   175\n",
       "2   95    140   171\n",
       "3   92    137   168\n",
       "4   90    135   164"
      ]
     },
     "execution_count": 160,
     "metadata": {},
     "output_type": "execute_result"
    }
   ],
   "source": [
    "df.head()"
   ]
  },
  {
   "cell_type": "code",
   "execution_count": 161,
   "id": "c92e5ae7",
   "metadata": {},
   "outputs": [
    {
     "name": "stderr",
     "output_type": "stream",
     "text": [
      "C:\\Users\\Monil\\anaconda3\\Lib\\site-packages\\sklearn\\cluster\\_kmeans.py:1412: FutureWarning: The default value of `n_init` will change from 10 to 'auto' in 1.4. Set the value of `n_init` explicitly to suppress the warning\n",
      "  super()._check_params_vs_input(X, default_n_init=10)\n",
      "C:\\Users\\Monil\\anaconda3\\Lib\\site-packages\\sklearn\\cluster\\_kmeans.py:1412: FutureWarning: The default value of `n_init` will change from 10 to 'auto' in 1.4. Set the value of `n_init` explicitly to suppress the warning\n",
      "  super()._check_params_vs_input(X, default_n_init=10)\n",
      "C:\\Users\\Monil\\anaconda3\\Lib\\site-packages\\sklearn\\cluster\\_kmeans.py:1412: FutureWarning: The default value of `n_init` will change from 10 to 'auto' in 1.4. Set the value of `n_init` explicitly to suppress the warning\n",
      "  super()._check_params_vs_input(X, default_n_init=10)\n",
      "C:\\Users\\Monil\\anaconda3\\Lib\\site-packages\\sklearn\\cluster\\_kmeans.py:1412: FutureWarning: The default value of `n_init` will change from 10 to 'auto' in 1.4. Set the value of `n_init` explicitly to suppress the warning\n",
      "  super()._check_params_vs_input(X, default_n_init=10)\n",
      "C:\\Users\\Monil\\anaconda3\\Lib\\site-packages\\sklearn\\cluster\\_kmeans.py:1412: FutureWarning: The default value of `n_init` will change from 10 to 'auto' in 1.4. Set the value of `n_init` explicitly to suppress the warning\n",
      "  super()._check_params_vs_input(X, default_n_init=10)\n"
     ]
    }
   ],
   "source": [
    "from sklearn.cluster import KMeans\n",
    "\n",
    "wcss = []\n",
    "\n",
    "for i in range(1,6):\n",
    "    km = KMeans(n_clusters=i)\n",
    "    km.fit_predict(df)\n",
    "    wcss.append(km.inertia_)"
   ]
  },
  {
   "cell_type": "code",
   "execution_count": 163,
   "id": "daefd5ee",
   "metadata": {},
   "outputs": [
    {
     "data": {
      "text/plain": [
       "[<matplotlib.lines.Line2D at 0x25884527650>]"
      ]
     },
     "execution_count": 163,
     "metadata": {},
     "output_type": "execute_result"
    },
    {
     "data": {
      "image/png": "[encoded data removed]",
      "text/plain": [
       "<Figure size 640x480 with 1 Axes>"
      ]
     },
     "metadata": {},
     "output_type": "display_data"
    }
   ],
   "source": [
    "#PLotting WCSS with out sklearn code\n",
    "import matplotlib.pyplot as plt\n",
    "plt.plot(range(1,6), wcss)"
   ]
  },
  {
   "cell_type": "code",
   "execution_count": 169,
   "id": "fbda1b1a",
   "metadata": {},
   "outputs": [
    {
     "name": "stdout",
     "output_type": "stream",
     "text": [
      "Total iteration run: 2\n",
      "Final Centroids are: [array([ 91.36714074, 121.22322593, 102.45025556])]\n",
      "Total iteration run: 17\n",
      "Final Centroids are: [array([240.01088295, 207.05198508,  36.48902425]), array([ 73.0416489 , 110.64185733, 110.58226292])]\n",
      "Total iteration run: 21\n",
      "Final Centroids are: [array([240.44551984, 207.28641774,  36.04195745]), array([53.77661094, 80.67053168, 76.95923514]), array([ 87.23853874, 132.60234313, 135.12367983])]\n",
      "Total iteration run: 42\n",
      "Final Centroids are: [array([ 96.37410984, 144.09828235, 151.60760917]), array([240.53625062, 207.34284597,  35.92304291]), array([46.8126634 , 67.27429739, 64.83553922]), array([ 72.16177752, 112.52874309, 108.41991137])]\n",
      "[3726502401.8107123, 1475483975.7882957, 631424263.6930985, 410459042.061715]\n"
     ]
    }
   ],
   "source": [
    "X = df.values\n",
    "wcss=[]\n",
    "for k in range(1,5):\n",
    "    random_index = random.sample(range(0, df.shape[0]), k)\n",
    "    initial_cent = X[random_index]\n",
    "\n",
    "    for m in range(100):\n",
    "        \n",
    "        # Assign Cluster\n",
    "        assign_cluster =[]\n",
    "        for row in X:\n",
    "            distance=[]\n",
    "            for centroid in initial_cent:\n",
    "                distance.append(np.sqrt(np.dot(row-centroid, row-centroid)))\n",
    "            index = distance.index(min(distance))\n",
    "            assign_cluster.append(index)\n",
    "        assign_cluster = np.array(assign_cluster)           \n",
    "        \n",
    "        # New centroids\n",
    "        old_cent = initial_cent\n",
    "        uni_cluster_no = np.unique(assign_cluster)\n",
    "        cen_new =[]\n",
    "        for cluster_no in uni_cluster_no:\n",
    "            cen_new.append(X[assign_cluster == cluster_no].mean(axis=0))\n",
    "\n",
    "        initial_cent = np.array(cen_new)\n",
    "        \n",
    "        # Check convergence\n",
    "        if(old_cent == initial_cent).all():\n",
    "            wcss1 = 0\n",
    "            for i in uni_cluster_no:\n",
    "                X1=X[assign_cluster==i]\n",
    "                for j in X1:\n",
    "                    wcss1 = wcss1 + np.dot((j - initial_cent[i]),(j - initial_cent[i]))\n",
    "            wcss.append(wcss1)\n",
    "            break\n",
    "\n",
    "    print('Total iteration run:',m+1)\n",
    "    print('Final Centroids are:',cen_new)\n",
    "print(wcss)"
   ]
  },
  {
   "cell_type": "code",
   "execution_count": 170,
   "id": "dba05e7c",
   "metadata": {},
   "outputs": [
    {
     "data": {
      "text/plain": [
       "[3726502401.8107123, 1475483975.7882957, 631424263.6930985, 410459042.061715]"
      ]
     },
     "execution_count": 170,
     "metadata": {},
     "output_type": "execute_result"
    }
   ],
   "source": [
    "wcss"
   ]
  },
  {
   "cell_type": "code",
   "execution_count": 172,
   "id": "a739ff68",
   "metadata": {},
   "outputs": [
    {
     "data": {
      "text/plain": [
       "[<matplotlib.lines.Line2D at 0x25884f26690>]"
      ]
     },
     "execution_count": 172,
     "metadata": {},
     "output_type": "execute_result"
    },
    {
     "data": {
      "image/png": "[encoded data removed]",
      "text/plain": [
       "<Figure size 640x480 with 1 Axes>"
      ]
     },
     "metadata": {},
     "output_type": "display_data"
    }
   ],
   "source": [
    "#PLotting WCSS with out own written code \n",
    "plt.plot(range(1,5), wcss)"
   ]
  },
  {
   "cell_type": "code",
   "execution_count": null,
   "id": "9383f00c",
   "metadata": {},
   "outputs": [],
   "source": []
  }
 ],
 "metadata": {
  "kernelspec": {
   "display_name": "Python 3 (ipykernel)",
   "language": "python",
   "name": "python3"
  },
  "language_info": {
   "codemirror_mode": {
    "name": "ipython",
    "version": 3
   },
   "file_extension": ".py",
   "mimetype": "text/x-python",
   "name": "python",
   "nbconvert_exporter": "python",
   "pygments_lexer": "ipython3",
   "version": "3.11.4"
  }
 },
 "nbformat": 4,
 "nbformat_minor": 5
}
